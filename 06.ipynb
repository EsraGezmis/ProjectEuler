{
 "cells": [
  {
   "cell_type": "code",
   "execution_count": 1,
   "metadata": {},
   "outputs": [],
   "source": [
    "#The sum of the squares of the first ten natural numbers is,\n",
    "\n",
    "#1^2 + 2^2 + ... + 10^2 = 385\n",
    "#The square of the sum of the first ten natural numbers is,\n",
    "\n",
    "#(1 + 2 + ... + 10)² = 552 = 3025\n",
    "#Hence the difference between the sum of the squares of the first ten natural numbers and the square of the sum is 3025 − 385 = 2640.\n",
    "\n",
    "#Find the difference between the sum of the squares of the first one hundred natural numbers and the square of the sum."
   ]
  },
  {
   "cell_type": "code",
   "execution_count": 1,
   "metadata": {},
   "outputs": [
    {
     "name": "stdout",
     "output_type": "stream",
     "text": [
      "25164150\n"
     ]
    }
   ],
   "source": [
    "import numpy as np\n",
    "\n",
    "l=[]\n",
    "for i in range(101):\n",
    "   # x1=np.power(i,2)\n",
    "   # l.append(x1)\n",
    "    l.append(np.power(i,2))\n",
    "#print(l)\n",
    "x1=sum(l)\n",
    "#print(x1)\n",
    "\n",
    "a=np.arange(101)\n",
    "x2=np.power(np.sum([a]),2)\n",
    "#x2=np.power(x2,2)\n",
    "#print(x2)\n",
    "\n",
    "x=x2-x1\n",
    "\n",
    "print(x)\n"
   ]
  },
  {
   "cell_type": "code",
   "execution_count": 6,
   "metadata": {},
   "outputs": [
    {
     "name": "stdout",
     "output_type": "stream",
     "text": [
      "338350\n",
      "[1, 2, 3, 4, 5, 6, 7, 8, 9, 10, 11, 12, 13, 14, 15, 16, 17, 18, 19, 20, 21, 22, 23, 24, 25, 26, 27, 28, 29, 30, 31, 32, 33, 34, 35, 36, 37, 38, 39, 40, 41, 42, 43, 44, 45, 46, 47, 48, 49, 50, 51, 52, 53, 54, 55, 56, 57, 58, 59, 60, 61, 62, 63, 64, 65, 66, 67, 68, 69, 70, 71, 72, 73, 74, 75, 76, 77, 78, 79, 80, 81, 82, 83, 84, 85, 86, 87, 88, 89, 90, 91, 92, 93, 94, 95, 96, 97, 98, 99, 100]\n",
      "25164150\n"
     ]
    }
   ],
   "source": [
    "l1=[]\n",
    "x2=0\n",
    "for i in range(101):\n",
    "    l1.append(np.power(i,2))\n",
    "x1=sum(l1)\n",
    "print(x1)\n",
    "l2=[]\n",
    "for i in range(1,101):\n",
    "    x2=i\n",
    "    l2.append(x2)\n",
    "print(l2)\n",
    "x2=np.power(sum(l2),2)\n",
    "\n",
    "x=x2-x1\n",
    "print(x)"
   ]
  },
  {
   "cell_type": "code",
   "execution_count": null,
   "metadata": {},
   "outputs": [],
   "source": []
  },
  {
   "cell_type": "code",
   "execution_count": null,
   "metadata": {},
   "outputs": [],
   "source": []
  }
 ],
 "metadata": {
  "kernelspec": {
   "display_name": "Python 3",
   "language": "python",
   "name": "python3"
  },
  "language_info": {
   "codemirror_mode": {
    "name": "ipython",
    "version": 3
   },
   "file_extension": ".py",
   "mimetype": "text/x-python",
   "name": "python",
   "nbconvert_exporter": "python",
   "pygments_lexer": "ipython3",
   "version": "3.6.4"
  }
 },
 "nbformat": 4,
 "nbformat_minor": 2
}
