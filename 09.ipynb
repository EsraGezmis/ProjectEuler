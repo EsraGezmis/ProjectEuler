{
 "cells": [
  {
   "cell_type": "code",
   "execution_count": 248,
   "metadata": {},
   "outputs": [],
   "source": [
    "#A Pythagorean triplet is a set of three natural numbers, a < b < c, for which,\n",
    "\n",
    "#a2 + b2 = c2\n",
    "#For example, 32 + 42 = 9 + 16 = 25 = 52.\n",
    "\n",
    "#There exists exactly one Pythagorean triplet for which a + b + c = 1000.\n",
    "#Find the product abc."
   ]
  },
  {
   "cell_type": "code",
   "execution_count": 261,
   "metadata": {},
   "outputs": [],
   "source": [
    "import math\n",
    "from functools import reduce\n",
    "\n",
    "summe=1000 # pythagorean triplet for which a+b+c=summe\n",
    "x=summe+1\n",
    "a=[]\n",
    "b=[]\n",
    "c=[]\n",
    "list1=[]\n",
    "result=[]\n"
   ]
  },
  {
   "cell_type": "code",
   "execution_count": 262,
   "metadata": {},
   "outputs": [
    {
     "name": "stdout",
     "output_type": "stream",
     "text": [
      "[31875000]\n"
     ]
    }
   ],
   "source": [
    "for k in range(1,x):\n",
    "    for j in range(1,x):\n",
    "        if j<k:\n",
    "            for i in range(1,x):\n",
    "                if i<j:\n",
    "                    a3=i+j+k\n",
    "                    if a3==summe:\n",
    "                        a.append(i)\n",
    "                        b.append(j)\n",
    "                        c.append(k)\n",
    "\n",
    "\n",
    "for i in range(0,len(a)):   \n",
    "    summe2=math.pow(a[i],2)+math.pow(b[i],2)-math.pow(c[i],2)\n",
    "    if summe2==0:\n",
    "        tuple1=(a[i],b[i],c[i])\n",
    "        list1.append(tuple1)\n",
    "m=len(list1)\n",
    "for i in range(0,m):\n",
    "    result1 = reduce((lambda x, y: x * y), list1[i])\n",
    "    result.append(result1)\n",
    "print(result)"
   ]
  },
  {
   "cell_type": "code",
   "execution_count": null,
   "metadata": {},
   "outputs": [],
   "source": []
  },
  {
   "cell_type": "code",
   "execution_count": null,
   "metadata": {},
   "outputs": [],
   "source": []
  },
  {
   "cell_type": "code",
   "execution_count": null,
   "metadata": {},
   "outputs": [],
   "source": []
  },
  {
   "cell_type": "code",
   "execution_count": null,
   "metadata": {},
   "outputs": [],
   "source": []
  },
  {
   "cell_type": "code",
   "execution_count": null,
   "metadata": {},
   "outputs": [],
   "source": []
  },
  {
   "cell_type": "code",
   "execution_count": null,
   "metadata": {},
   "outputs": [],
   "source": []
  }
 ],
 "metadata": {
  "kernelspec": {
   "display_name": "Python 3",
   "language": "python",
   "name": "python3"
  },
  "language_info": {
   "codemirror_mode": {
    "name": "ipython",
    "version": 3
   },
   "file_extension": ".py",
   "mimetype": "text/x-python",
   "name": "python",
   "nbconvert_exporter": "python",
   "pygments_lexer": "ipython3",
   "version": "3.6.4"
  }
 },
 "nbformat": 4,
 "nbformat_minor": 2
}
